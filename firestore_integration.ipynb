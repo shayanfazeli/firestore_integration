{
 "cells": [
  {
   "cell_type": "markdown",
   "metadata": {},
   "source": [
    "# Firestore: Integration"
   ]
  },
  {
   "cell_type": "markdown",
   "metadata": {},
   "source": [
    "This work offers the API for integrating Cloud Firestore (Firebase's realtime database system) and a storage system. The tutorial on how to utilize this library is demonstrated step by step in this notebook."
   ]
  },
  {
   "cell_type": "markdown",
   "metadata": {},
   "source": [
    "## Overview"
   ]
  },
  {
   "cell_type": "markdown",
   "metadata": {},
   "source": [
    "This library is developed with the following assumptions in mind on how the data is to be stored on Cloud Firestore and on the corresponding storage format. These assumptions are elaborated upon in this section, and them we have found appropriate, however, it is quite easy to alter the assumptions and the code to fit your specific needs in no time."
   ]
  },
  {
   "cell_type": "raw",
   "metadata": {},
   "source": [
    "Firestore:\n",
    "    collection_ids -> \n",
    "        collection_ids ->\n",
    "            Info"
   ]
  },
  {
   "cell_type": "raw",
   "metadata": {},
   "source": [
    "Storage:\n",
    "    Folder ->\n",
    "        collection_id folders ->\n",
    "            collection_id folders ->\n",
    "                collection_id files containing all the information for the previous level"
   ]
  },
  {
   "cell_type": "markdown",
   "metadata": {},
   "source": [
    "## Preparations"
   ]
  },
  {
   "cell_type": "markdown",
   "metadata": {},
   "source": [
    "### Parameters"
   ]
  },
  {
   "cell_type": "code",
   "execution_count": 8,
   "metadata": {},
   "outputs": [],
   "source": [
    "google_key_path = \"path_to/service_key.json\"\n",
    "temporary_output_storage_folder = \"./temporary_output_storage/\""
   ]
  },
  {
   "cell_type": "markdown",
   "metadata": {},
   "source": [
    "### Resources"
   ]
  },
  {
   "cell_type": "code",
   "execution_count": 2,
   "metadata": {},
   "outputs": [],
   "source": [
    "#!pip3 install firebase-admin"
   ]
  },
  {
   "cell_type": "markdown",
   "metadata": {},
   "source": [
    "### Project Methods and Libraries"
   ]
  },
  {
   "cell_type": "code",
   "execution_count": 3,
   "metadata": {},
   "outputs": [],
   "source": [
    "from libraries.firestore.utils import *"
   ]
  },
  {
   "cell_type": "markdown",
   "metadata": {},
   "source": [
    "## Execution"
   ]
  },
  {
   "cell_type": "code",
   "execution_count": 4,
   "metadata": {},
   "outputs": [],
   "source": [
    "db = build_db(google_key_path=google_key_path)"
   ]
  },
  {
   "cell_type": "code",
   "execution_count": 5,
   "metadata": {},
   "outputs": [],
   "source": [
    "docs = query_id_data_for_date(\n",
    "    db=db, \n",
    "    collection_id='P00_Log', \n",
    "    date=get_yesterday_date(),\n",
    "    temporary_output_storage='./temporary_output_storage'\n",
    ")"
   ]
  },
  {
   "cell_type": "code",
   "execution_count": 7,
   "metadata": {},
   "outputs": [],
   "source": [
    "prune_temporary_output_storage(\n",
    "    folder_path='./temporary_output_storage',\n",
    "    start_date='2019-04-13',\n",
    "    end_date='2019-04-16'\n",
    ")"
   ]
  },
  {
   "cell_type": "code",
   "execution_count": 9,
   "metadata": {},
   "outputs": [],
   "source": [
    "import json"
   ]
  }
 ],
 "metadata": {
  "kernelspec": {
   "display_name": "Python 3",
   "language": "python",
   "name": "python3"
  },
  "language_info": {
   "codemirror_mode": {
    "name": "ipython",
    "version": 3
   },
   "file_extension": ".py",
   "mimetype": "text/x-python",
   "name": "python",
   "nbconvert_exporter": "python",
   "pygments_lexer": "ipython3",
   "version": "3.6.6"
  },
  "toc": {
   "base_numbering": 1,
   "nav_menu": {},
   "number_sections": true,
   "sideBar": true,
   "skip_h1_title": false,
   "title_cell": "Table of Contents",
   "title_sidebar": "Contents",
   "toc_cell": false,
   "toc_position": {},
   "toc_section_display": true,
   "toc_window_display": false
  }
 },
 "nbformat": 4,
 "nbformat_minor": 2
}
